{
 "metadata": {
  "kernelspec": {
   "language": "python",
   "display_name": "Python 3",
   "name": "python3"
  },
  "language_info": {
   "pygments_lexer": "ipython3",
   "nbconvert_exporter": "python",
   "version": "3.6.4",
   "file_extension": ".py",
   "codemirror_mode": {
    "name": "ipython",
    "version": 3
   },
   "name": "python",
   "mimetype": "text/x-python"
  }
 },
 "nbformat_minor": 4,
 "nbformat": 4,
 "cells": [
  {
   "cell_type": "markdown",
   "source": [
    "## Project 1a: Intro to PyTorch Mini-Project\n",
    "\n",
    "Welcome to CS 288.  The purpose of this first assignment is to make sure that you are familiar with all the tools you need to complete the programming assignments for the course.  We will walk you through the process of building a model with PyTorch in Kaggle.  Most of it will be structured as a tutorial, but we will ask you to fill in code and submit at the end. \n",
    "\n",
    "Please note that this assignment is not representative of the projects for this course - other projects will be considerably more involved and take longer to complete.\n",
    "\n",
    "Our assignments will be given to you as Jupyter notebooks, and we intend for you to run them using Kaggle or Google Colab. Kaggle has historically had better availability of GPUs so we recommend using Kaggle.\n",
    "\n",
    "### Kaggle\n",
    "First go to https://www.kaggle.com/ and create an account. Click `Create` on the top right click `Copy & Edit` the notebook.\n",
    "\n",
    "To access a GPU, first verify your phone number. Then, click the three dots on the right and `Accelerator` in the drop down and select a GPU.\n",
    "\n",
    "### Colab\n",
    "To get started, make a copy of the assignment by clicking `File->Save a copy in drive...`.  You will need to be logged into a Google account, such as your @berkeley.edu account.\n",
    "\n",
    "To access a GPU, go to `Edit->Notebook settings` and in the `Hardware accelerator` dropdown choose `GPU`. \n",
    "As soon as you run a code cell, you will be connected to a cloud instance with a GPU.\n",
    "\n",
    "\n",
    "Try running the code cell below to check that a GPU is connected (select the cell then either click the play button at the top left or press `Ctrl+Enter` or `Shift+Enter`)."
   ],
   "metadata": {
    "_uuid": "69d9ef89-d679-4ac5-a3d9-2ab07b4ebc00",
    "_cell_guid": "3037ce13-43b8-4c53-af51-e0fe0c8f0079",
    "id": "gtKllKL-EFgx",
    "trusted": true
   }
  },
  {
   "cell_type": "code",
   "source": [
    "import torch\n",
    "\n",
    "if torch.backends.mps.is_available():\n",
    "    print('Found GPU')\n",
    "else:\n",
    "    print('Did not find GPU')"
   ],
   "metadata": {
    "_uuid": "293988dd-77eb-4960-b6fb-da9cca5877d3",
    "_cell_guid": "98180e7b-b453-4b9d-9184-778b60a51398",
    "collapsed": false,
    "id": "82H_i6foD8A_",
    "executionInfo": {
     "status": "ok",
     "timestamp": 1611952535610,
     "user_tz": 480,
     "elapsed": 3962,
     "user": {
      "displayName": "Rudy Corona Rodriguez",
      "photoUrl": "",
      "userId": "02448394073714905143"
     }
    },
    "outputId": "3d13ba10-8e5f-4027-c706-bbb746229a21",
    "jupyter": {
     "outputs_hidden": false
    },
    "execution": {
     "iopub.status.busy": "2023-01-30T21:02:50.116590Z",
     "iopub.execute_input": "2023-01-30T21:02:50.117481Z",
     "iopub.status.idle": "2023-01-30T21:02:50.124796Z",
     "shell.execute_reply.started": "2023-01-30T21:02:50.117433Z",
     "shell.execute_reply": "2023-01-30T21:02:50.123771Z"
    },
    "trusted": true
   },
   "execution_count": 7,
   "outputs": [
    {
     "name": "stdout",
     "output_type": "stream",
     "text": [
      "Found GPU\n"
     ]
    }
   ]
  },
  {
   "cell_type": "markdown",
   "source": [
    "Note for Colab users: When you run a code cell, Colab executes it on a temporary cloud instance.  Every time you open the notebook, you will be assigned a different machine.  All compute state and files saved on the previous machine will be lost.  Therefore, you may need to re-download datasets or rerun code after a reset. If you save output files that you don't want to lose, you should download them to your personal computer before moving on to something else. You can download files by hitting the > arrow at the top left of the page under the menus to expand the sidebar, selecting `Files`, right clicking the file you want, and clicking `Download`.  Alternatively, you can mount your Google drive to the temporary cloud instance's local filesystem using the following code snippet and save files under the specified directory (note that you will have to provide permission every time you run this)."
   ],
   "metadata": {
    "_uuid": "48e2d52d-dc5a-4d83-9067-4582e443cca9",
    "_cell_guid": "9a745f0f-e0a3-4193-867b-d93ecb48a313",
    "id": "_GJMaS91RICk",
    "trusted": true
   }
  },
  {
   "cell_type": "markdown",
   "source": [
    "Many of the assignments will require training a model for some period of time, often on the order of 20-30 minutes.  There are some important limitations to Colab that you should be aware of when running code for this amount of time.  If you close the window or put your computer to sleep, Colab will disconnect you from the compute machine and your code will stop running.   There are also timeouts for inactivity (somewhere on the order of 30 minutes), so if you want to leave code running, be sure to check back periodically.  After a timeout, your compute machine will be disconnected and the files on it will be lost.\n",
    "\n",
    "A few other notes about using Colab:\n",
    "* The `Runtime` menu has many different run options, such as `Run all` or `Run after` so you don't have to run each code block individually.\n",
    "* Some people have run into CUDA device assert errors that did not originate from their code.  Restarting the runtime should fix this (unless there actually is a problem with your code).\n",
    "\n",
    "If at some point you want to run longer jobs or connect to multiple GPUs, there are coupons for Google Compute Cloud available for students in the course. You could deploy your own cloud instance and run JupyterHub to recreate a similar environment to Colab. However, the course staff cannot offer technical support for this kind of configuration; you're on your own to set it up."
   ],
   "metadata": {
    "_uuid": "aefdf86c-8d22-4ba7-9b6f-ff9c0a4e0f61",
    "_cell_guid": "9d573ea4-d9b1-49ce-bbfd-22610e1d8ab4",
    "id": "sFp3VopnW3lZ",
    "trusted": true
   }
  },
  {
   "cell_type": "markdown",
   "source": [
    "### Part-of-Speech Tagging\n",
    "\n",
    "You'll be trying to predict the most common [part of speech](https://web.stanford.edu/~jurafsky/slp3/8.pdf) for a word from its characters.  This project will focus on word types rather than tokens and not use any context (https://en.wikipedia.org/wiki/Type%E2%80%93token_distinction). This task is different from (and simpler than) a standard part-of-speech tagging task, which predicts part-of-speech tags for tokens in their sentential context.\n",
    "\n",
    "Many words can have multiple different parts of speech, but in this project we will associate each word only with its most common part of speech in the [Brown Corpus](https://www1.essex.ac.uk/linguistics/external/clmt/w3c/corpus_ling/content/corpora/list/private/brown/brown.html), which has been manually labeled with part-of-speech tags.  \n",
    "\n",
    "Words are lowercased and filtered for length and frequency. Punctuation and numbers are removed. Any real NLP application would have to deal with the actual contents of text instead of filtering in this way, but we're just warming up.\n",
    "\n",
    "Below, we provide you with code to load the dataset. Please don't change the cell below, or you may confuse our autograder."
   ],
   "metadata": {
    "_uuid": "bbe31947-a9d9-482e-8bed-812e28fe3033",
    "_cell_guid": "cb6d8f61-025e-416b-8c18-23feb5d46ea1",
    "id": "SlDcpSk3VW5l",
    "trusted": true
   }
  },
  {
   "cell_type": "code",
   "source": [
    "import nltk\n",
    "import random\n",
    "\n",
    "from nltk.corpus import brown\n",
    "from collections import defaultdict, Counter\n",
    "\n",
    "nltk.download('brown')\n",
    "nltk.download('universal_tagset')\n",
    "\n",
    "brown_tokens = brown.tagged_words(tagset='universal')\n",
    "print('Tagged tokens example: ', brown_tokens[:5])\n",
    "print('Total # of word tokens:', len(brown_tokens))\n",
    "\n",
    "max_word_len = 20\n",
    "\n",
    "def most_common(s):\n",
    "    \"Return the most common element in a sequence.\"\n",
    "    return Counter(s).most_common(1)[0][0]\n",
    "\n",
    "def most_common_tags(tagged_words, min_count=3, max_len=max_word_len):\n",
    "    \"Return a dictionary of the most common tag for each word, filtering a bit.\"\n",
    "    counts = defaultdict(list)\n",
    "    for w, t in tagged_words:\n",
    "        counts[w.lower()].append(t)\n",
    "    return {w: most_common(tags) for w, tags in counts.items() if \n",
    "            w.isalpha() and len(w) <= max_len and len(tags) >= min_count}\n",
    "\n",
    "brown_types = most_common_tags(brown_tokens)\n",
    "print('Tagged types example: ', sorted(brown_types.items())[:5])\n",
    "print('Total # of word types:', len(brown_types))\n",
    "\n",
    "def split(items, test_size):\n",
    "    \"Randomly split into train, validation, and test sets with a fixed seed.\"\n",
    "    random.Random(288).shuffle(items)\n",
    "    once, twice = test_size, 2 * test_size\n",
    "    return items[:-twice], items[-twice:-once], items[-once:]\n",
    "\n",
    "val_test_size = 1000\n",
    "all_data_raw = split(sorted(brown_types.items()), val_test_size)\n",
    "train_data_raw, validation_data_raw, test_data_raw = all_data_raw\n",
    "all_tags = sorted(set(brown_types.values()))\n",
    "print('Tag options:', all_tags)"
   ],
   "metadata": {
    "_uuid": "ac049149-f8ed-469a-992d-a42470680399",
    "_cell_guid": "a8e44afd-1477-4648-a16a-e7c6aaa172e8",
    "collapsed": false,
    "id": "9T1ijH6-WlSp",
    "executionInfo": {
     "status": "ok",
     "timestamp": 1611952543776,
     "user_tz": 480,
     "elapsed": 7714,
     "user": {
      "displayName": "Rudy Corona Rodriguez",
      "photoUrl": "",
      "userId": "02448394073714905143"
     }
    },
    "outputId": "016bdecd-b637-4b42-c95d-25b73c6cc456",
    "jupyter": {
     "outputs_hidden": false
    },
    "trusted": true
   },
   "execution_count": 8,
   "outputs": [
    {
     "name": "stderr",
     "output_type": "stream",
     "text": [
      "[nltk_data] Downloading package brown to /Users/hongyy/nltk_data...\n",
      "[nltk_data]   Package brown is already up-to-date!\n",
      "[nltk_data] Downloading package universal_tagset to\n",
      "[nltk_data]     /Users/hongyy/nltk_data...\n",
      "[nltk_data]   Package universal_tagset is already up-to-date!\n"
     ]
    },
    {
     "name": "stdout",
     "output_type": "stream",
     "text": [
      "Tagged tokens example:  [('The', 'DET'), ('Fulton', 'NOUN'), ('County', 'NOUN'), ('Grand', 'ADJ'), ('Jury', 'NOUN')]\n",
      "Total # of word tokens: 1161192\n",
      "Tagged types example:  [('a', 'DET'), ('aaron', 'NOUN'), ('ab', 'NOUN'), ('abandon', 'VERB'), ('abandoned', 'VERB')]\n",
      "Total # of word types: 18954\n",
      "Tag options: ['ADJ', 'ADP', 'ADV', 'CONJ', 'DET', 'NOUN', 'NUM', 'PRON', 'PRT', 'VERB', 'X']\n"
     ]
    }
   ]
  },
  {
   "cell_type": "markdown",
   "source": [
    "You're welcome to insert additional cells and explore the data. Our autograders don't rely on any particular structure of the notebook."
   ],
   "metadata": {
    "_uuid": "f85b117b-2eb4-4666-aaec-f58946d35130",
    "_cell_guid": "68f74ab4-3c12-4db5-a0b5-302b73dd1753",
    "id": "nIx-VMZT7zSn",
    "trusted": true
   }
  },
  {
   "cell_type": "code",
   "source": [
    "# Explore the data here as you see fit."
   ],
   "metadata": {
    "_uuid": "f868737b-d532-4352-af98-7ba1583d4656",
    "_cell_guid": "f4005670-7c9c-4139-a0e5-6fddc3a67767",
    "collapsed": false,
    "id": "XVJkfwD37w1G",
    "jupyter": {
     "outputs_hidden": false
    },
    "trusted": true
   },
   "execution_count": null,
   "outputs": []
  },
  {
   "cell_type": "markdown",
   "source": [
    "First, let's run a baseline that predicts `NOUN` for every word. A predictor function takes a list of tagged words and returns a list of predicted tags. We've also provided some helper functions here to evaluate model outputs.  You don't need to fill in any code in this cell."
   ],
   "metadata": {
    "_uuid": "4b72f647-b34e-4670-95bc-773d541cb0f1",
    "_cell_guid": "b9cf17a6-f7ea-4800-b7d4-d7a1208d21c4",
    "id": "jiZ4q4aqVRVF",
    "trusted": true
   }
  },
  {
   "cell_type": "code",
   "source": [
    "def noun_predictor(raw_data):\n",
    "    \"A predictor that always predicts NOUN.\"\n",
    "    predictions = []\n",
    "    for word, _ in raw_data:\n",
    "        predictions.append('NOUN')\n",
    "    return predictions\n",
    "\n",
    "def accuracy(predictions, targets):\n",
    "    \"\"\"Return the accuracy percentage of a list of predictions.\n",
    "    \n",
    "    predictions has only the predicted tags\n",
    "    targets has tuples of (word, tag)\n",
    "    \"\"\"\n",
    "    assert len(predictions) == len(targets)\n",
    "    n_correct = 0\n",
    "    for predicted_tag, (word, gold_tag) in zip(predictions, targets):\n",
    "        if predicted_tag == gold_tag:\n",
    "            n_correct += 1\n",
    "\n",
    "    return n_correct / len(targets) * 100.0\n",
    "\n",
    "def evaluate(predictor, raw_data):\n",
    "    return accuracy(predictor(raw_data), raw_data)\n",
    "\n",
    "def print_sample_predictions(predictor, raw_data, k=10):\n",
    "    \"Print the first k predictions.\"\n",
    "    d = raw_data[:k]\n",
    "    print('Sample predictions:', \n",
    "          [(word, guess) for (word, _), guess in zip(d, predictor(d))])\n",
    "\n",
    "print('noun baseline validation accuracy:', \n",
    "      evaluate(noun_predictor, validation_data_raw))\n",
    "print_sample_predictions(noun_predictor, validation_data_raw)"
   ],
   "metadata": {
    "_uuid": "5f727e94-fc8b-40df-90eb-e337d72175a3",
    "_cell_guid": "57a2ba65-64f5-4127-bbba-1c31698e5b7b",
    "collapsed": false,
    "id": "FvoPZ609WBpN",
    "executionInfo": {
     "status": "ok",
     "timestamp": 1611952553077,
     "user_tz": 480,
     "elapsed": 540,
     "user": {
      "displayName": "Rudy Corona Rodriguez",
      "photoUrl": "",
      "userId": "02448394073714905143"
     }
    },
    "outputId": "06a6a6d5-a459-4dbd-d224-52b1bc02c573",
    "jupyter": {
     "outputs_hidden": false
    },
    "trusted": true
   },
   "execution_count": 4,
   "outputs": [
    {
     "name": "stdout",
     "output_type": "stream",
     "text": [
      "noun baseline validation accuracy: 55.1\n",
      "Sample predictions: [('salem', 'NOUN'), ('unsympathetic', 'NOUN'), ('downwind', 'NOUN'), ('exodus', 'NOUN'), ('avoiding', 'NOUN'), ('informal', 'NOUN'), ('padded', 'NOUN'), ('tantalizing', 'NOUN'), ('farce', 'NOUN'), ('berger', 'NOUN')]\n"
     ]
    }
   ]
  },
  {
   "cell_type": "markdown",
   "source": [
    "### Building a PyTorch Classifier\n",
    "\n",
    "We will be using the deep learning framework PyTorch for all our projects.\n",
    "If you haven't used PyTorch at all before, we recommend you check out the tutorials on the PyTorch website: https://pytorch.org/tutorials/beginner/deep_learning_60min_blitz.html.  Throughout this project and the others in this course, you will need to reference the documentation at https://pytorch.org/docs/stable/index.html.  We'll be using PyTorch version 1.7, which comes pre-installed with Colab.  In this project, we'll walk you through the process of defining and training your neural network model, but future projects will have less guidance.\n",
    "\n",
    "Below, we've provided a baseline network as a PyTorch Module that will learn a single parameter per part-of-speech tag. This model has the capacity to learn that `'NOUN'` is the most common tag and predict that. It can't do better. Use this network as you are developing your training and prediction code, then replace it with your actual network later."
   ],
   "metadata": {
    "_uuid": "e094ed12-7269-4f51-b837-413d43353078",
    "_cell_guid": "024be1d5-ef78-41fc-a7e6-5e76c6a76a89",
    "id": "jIxSaG7pavpS",
    "trusted": true
   }
  },
  {
   "cell_type": "code",
   "source": [
    "import torch\n",
    "from torch import nn\n",
    "import torch.nn.functional as F\n",
    "\n",
    "class BaselineNetwork(nn.Module):\n",
    "    def __init__(self, n_outputs):\n",
    "        super().__init__()\n",
    "\n",
    "        # learn a vector of size n_outputs, initialized with all zeros\n",
    "        self.param = nn.Parameter(torch.zeros(n_outputs)) \n",
    "\n",
    "    def forward(self, chars, mask):\n",
    "        # return the same outputs (self.param) for each example in a batch\n",
    "        return self.param.expand(chars.size(0), -1)"
   ],
   "metadata": {
    "_uuid": "480a1a4e-e7ba-4d87-8b65-baab5fa7b701",
    "_cell_guid": "ab9870e0-e6df-48fc-829d-cf5962360d02",
    "collapsed": false,
    "id": "3N8wiRpoiZzG",
    "jupyter": {
     "outputs_hidden": false
    },
    "trusted": true
   },
   "execution_count": 5,
   "outputs": []
  },
  {
   "cell_type": "markdown",
   "source": [
    "To train or evaluate a neural model, we'll need to transform the raw data from strings into tensors.  We've provided the following function to perform the transformation for you. Each word is prepended with the `^` character and appended with `$` so that these boundary characters are available to the network."
   ],
   "metadata": {
    "_uuid": "9b0cf29c-a764-403f-97c3-c49f3ed9fbb9",
    "_cell_guid": "3334c18b-84f4-4828-9f61-3365011e7018",
    "id": "UnJJfdiR8l_L",
    "trusted": true
   }
  },
  {
   "cell_type": "code",
   "source": [
    "def make_matrices(data_raw):\n",
    "    \"\"\"Convert a list of (word, tag) pairs into tensors with appropriate padding.\n",
    "    \n",
    "    character_matrix holds character codes for each word, \n",
    "      indexed as [word_index, character_index]\n",
    "    character_mask masks valid characters (1 for valid, 0 invalid), \n",
    "      indexed similarly so that all inputs can have a constant length\n",
    "    pos_labels holds part-of-speech one-hot vectors,\n",
    "      indexed as [word_index, pos_index] with 0/1 values TODO this is wrong, pos_labels is a vector\n",
    "    \"\"\"\n",
    "    max_len = max_word_len + 2  # leave room for word start/end symbols\n",
    "    character_matrix = torch.zeros(len(data_raw), max_len, dtype=torch.int64) \n",
    "    character_mask = torch.zeros(len(data_raw), max_len, dtype=torch.float32)\n",
    "    pos_labels = torch.zeros(len(data_raw), dtype=torch.int64)\n",
    "    for word_i, (word, pos) in enumerate(data_raw):\n",
    "        for char_i, c in enumerate('^' + word + '$'):\n",
    "            character_matrix[word_i, char_i] = ord(c)\n",
    "            character_mask[word_i, char_i] = 1\n",
    "        pos_labels[word_i] = all_tags.index(pos)\n",
    "    return torch.utils.data.TensorDataset(character_matrix, character_mask, pos_labels)\n",
    "\n",
    "validation_data = make_matrices(validation_data_raw)\n",
    "\n",
    "print('Sample datapoint after preprocessing:', validation_data[0])\n",
    "print('Raw datapoint:', validation_data_raw[0])"
   ],
   "metadata": {
    "_uuid": "c90e2ac3-b9b1-497f-be8d-2151529414a4",
    "_cell_guid": "a0980a6f-2ca2-4545-9719-53928879c9f3",
    "collapsed": false,
    "id": "f62L4sTrUEn3",
    "executionInfo": {
     "status": "ok",
     "timestamp": 1611952578879,
     "user_tz": 480,
     "elapsed": 715,
     "user": {
      "displayName": "Rudy Corona Rodriguez",
      "photoUrl": "",
      "userId": "02448394073714905143"
     }
    },
    "outputId": "368baefb-b4f9-4d01-b35a-7aa97be9117d",
    "jupyter": {
     "outputs_hidden": false
    },
    "trusted": true
   },
   "execution_count": 6,
   "outputs": [
    {
     "name": "stdout",
     "output_type": "stream",
     "text": [
      "Sample datapoint after preprocessing: (tensor([ 94, 115,  97, 108, 101, 109,  36,   0,   0,   0,   0,   0,   0,   0,\n",
      "          0,   0,   0,   0,   0,   0,   0,   0]), tensor([1., 1., 1., 1., 1., 1., 1., 0., 0., 0., 0., 0., 0., 0., 0., 0., 0., 0.,\n",
      "        0., 0., 0., 0.]), tensor(5))\n",
      "Raw datapoint: ('salem', 'NOUN')\n"
     ]
    }
   ]
  },
  {
   "cell_type": "markdown",
   "source": [
    "The output of a `BaselineNetwork` is a matrix of dimension (batch_size, num_pos_labels) containing logits, or unnormalized log probabilities. To get probabilities from this matrix, you would run `F.softmax(x, dim=1)`, which exponentiates the logits and then normalizes each row to sum to 1.  The cell below generates an output distribution for the first example of the validation set, which is uniform because the network param was initialized to zero.\n",
    "\n",
    "In PyTorch, it is common to return pre-activation values from modules (e.g. the values before running the final softmax or sigmoid operation).  PyTorch has loss functions that combine the softmax/sigmoid operation into the loss operation for more numerical stability.  Be sure you know what type of values a network returns, as this will affect your training and prediction code."
   ],
   "metadata": {
    "_uuid": "1ba86fd8-5bed-4ab9-a64f-1d5007102524",
    "_cell_guid": "d5eec594-59ff-4681-ab82-51c6b427de70",
    "id": "EK-FPqtw826J",
    "trusted": true
   }
  },
  {
   "cell_type": "code",
   "source": [
    "# Create a network and copy its parameters to the GPU.\n",
    "untrained_baseline = BaselineNetwork(len(all_tags)).cuda()\n",
    "untrained_baseline.eval()\n",
    "\n",
    "# Select the first validation example.\n",
    "example = validation_data[0]\n",
    "chars, mask, _ = example\n",
    "\n",
    "# Networks only process batches. Create a batch of size one.\n",
    "chars_batch, mask_batch = chars.unsqueeze(0), mask.unsqueeze(0)\n",
    "\n",
    "# Copy batch to the GPU.\n",
    "chars_batch, mask_batch = chars_batch.cuda(), mask_batch.cuda()\n",
    "\n",
    "# Run the untrained network.\n",
    "logits = untrained_baseline(chars_batch, mask_batch)\n",
    "\n",
    "# Convert to a distribution.\n",
    "output_distribution = F.softmax(logits, dim=1).squeeze().tolist()\n",
    "\n",
    "# Inspect the distribution, which should be uniform.\n",
    "list(zip(all_tags, output_distribution))"
   ],
   "metadata": {
    "_uuid": "24bb9404-ad43-4842-8bc2-c3f17a82c3df",
    "_cell_guid": "6bb3ed92-f642-453a-85e4-367b61b761d2",
    "collapsed": false,
    "id": "Rtr9xZXVB1Qc",
    "executionInfo": {
     "status": "ok",
     "timestamp": 1611952805688,
     "user_tz": 480,
     "elapsed": 10669,
     "user": {
      "displayName": "Rudy Corona Rodriguez",
      "photoUrl": "",
      "userId": "02448394073714905143"
     }
    },
    "outputId": "d117ebe5-84d5-41a6-c315-73a1b6095502",
    "jupyter": {
     "outputs_hidden": false
    },
    "trusted": true
   },
   "execution_count": null,
   "outputs": []
  },
  {
   "cell_type": "markdown",
   "source": [
    "Finally, time to write some code!\n",
    "\n",
    "In the cell below, define a predictor for a network by following the instructions in the comments. The predictor takes a list of words (strings) and returns a list of part-of-speech tags (also strings).\n",
    "\n",
    "For this assignment, we've provided more fine-grained instructions as comments in the code template.  You are free to explore methods and architectures other than the ones we specified in the comments, but we highly recommend starting with them, as they will help you reach the required accuracies and give lots of best practices to use in later projects."
   ],
   "metadata": {
    "_uuid": "aea09742-a13a-4a76-8709-54993eced9b9",
    "_cell_guid": "d123677e-015e-410c-92c9-c8da2b9e4464",
    "id": "7ubdajTtCwzt",
    "trusted": true
   }
  },
  {
   "cell_type": "code",
   "source": [
    "def predict_using(network):\n",
    "    def predictor(raw_data):\n",
    "        \"\"\"Return a list of part-of-speech tags as strings, one for each word.\n",
    "\n",
    "        raw_data - a list of (word, tag) pairs.\n",
    "        \"\"\"\n",
    "\n",
    "        with torch.no_grad(): # turns off automatic differentiation, which isn't required but helps save memory\n",
    "\n",
    "            # YOUR CODE HERE\n",
    "            # * put `network` into evaluation mode (turning off dropout) using `.eval()`\n",
    "            #   then back into train mode at the end of the function with `.train()`\n",
    "            #   this is easy to forget and could lead to lower accuracy without warning\n",
    "            #   see https://pytorch.org/docs/stable/_modules/torch/nn/modules/module.html#Module.train for more info\n",
    "            # * use `make_matrices` to get a preprocessed dataset from `raw_data`\n",
    "            # * make a DataLoader to iterate over the preprocessed dataset from `make_matrices`, but don't use shuffling or your outputs will be in the wrong order\n",
    "            # * iterate with the data loader (there will be a pos_labels vector, but don't use it - we want to be able to use our model on new inputs where we don't know the answer)\n",
    "            #  * run `network` to get outputs\n",
    "            #  * get the id of the predicted part of speeches with an argmax operation\n",
    "            #  * convert the predictions to strings using `all_tags`\n",
    "            # * return your predictions\n",
    "\n",
    "\n",
    "    \n",
    "    return predictor\n",
    "\n",
    "# The predictions of an untrained model should be arbitrary.\n",
    "print_sample_predictions(predict_using(untrained_baseline), validation_data_raw)"
   ],
   "metadata": {
    "_uuid": "ee08a74e-8f74-40e3-bc8a-393622fdcd54",
    "_cell_guid": "f034d4ca-714c-4b50-a812-b96cc64578a0",
    "collapsed": false,
    "id": "zlWQk-dcp9BD",
    "executionInfo": {
     "status": "ok",
     "timestamp": 1611952968391,
     "user_tz": 480,
     "elapsed": 356,
     "user": {
      "displayName": "Rudy Corona Rodriguez",
      "photoUrl": "",
      "userId": "02448394073714905143"
     }
    },
    "outputId": "9636c683-d4a0-4f81-c161-8f2f7386ed8b",
    "jupyter": {
     "outputs_hidden": false
    },
    "trusted": true
   },
   "execution_count": null,
   "outputs": []
  },
  {
   "cell_type": "markdown",
   "source": [
    "\n",
    "Fill in the training function for the neural network below. This function should train any network.  \n",
    "\n",
    "Then, you'll have all the parts needed to train and evaluate the baseline network.  You should get the same accuracy as the all-noun baseline.  Make sure your train function prints validation scores so that you see score outputs here."
   ],
   "metadata": {
    "_uuid": "7f66e38c-58ae-4e83-915c-815fe80fe1b2",
    "_cell_guid": "a8a74db4-70f7-4a4a-8ece-1611db05dbe6",
    "id": "C_9jzlbFB1hw",
    "trusted": true
   }
  },
  {
   "cell_type": "code",
   "source": [
    "import tqdm\n",
    "\n",
    "def train(network, n_epochs=25):\n",
    "    # YOUR CODE HERE\n",
    "    # * use `make_matrices` to get a preprocessed dataset from `train_data_raw`\n",
    "    # * make a DataLoader from torch.utils.data to iterate over your dataset\n",
    "    #   it can handle batching and shuffling of the data, you just need to pass it the `batch_size` and `shuffle` parameters\n",
    "    # * move `network` to GPU using `.cuda()`\n",
    "    # * make an optimizer from torch.optim with your network parameters\n",
    "    #   `Adam` with its default hyperparameters often works pretty well without any tuning\n",
    "    #   later you can explore other optimizers, as well as learning rate schedules\n",
    "    \n",
    "    predictor = predict_using(network)\n",
    "\n",
    "    for epoch in range(n_epochs):\n",
    "        print('Epoch', epoch)\n",
    "        for batch in tqdm.tqdm_notebook(data_loader, leave=False):\n",
    "            chars_batch, mask_batch, pos_batch = batch\n",
    "            assert network.training, 'make sure your network is in train mode with `.train()`'\n",
    "\n",
    "            # YOUR CODE HERE\n",
    "            # * call zero_grad on your optimizer\n",
    "            #   warning: this is easy to forget and you won't get an error if you do - you might just get lower accuracies\n",
    "            # * move the batch inputs to GPU\n",
    "            # * run your network\n",
    "            # * compute a loss; you can use `F.cross_entropy`, which combines a softmax operation with\n",
    "            #   a cross-entropy loss operation for multi-class classification\n",
    "            # * call `.backward()` on your loss and `.step()` on your optimizer\n",
    "\n",
    "\n",
    "\n",
    "        validation_score = evaluate(predictor, validation_data_raw)\n",
    "        print('Validation score:', validation_score)\n",
    "\n",
    "        # YOUR CODE HERE\n",
    "        # * if the validation score is better than your previous best score, save the model\n",
    "        #   use `network.state_dict()` and `torch.save` (https://pytorch.org/docs/stable/notes/serialization.html)\n",
    "        #   this gives us a form of early stopping in case the model starts overfitting\n",
    "\n",
    "\n",
    "\n",
    "    # YOUR CODE HERE\n",
    "    # * load the best model from the file where you saved it using `torch.load` and `network.load_state_dict`\n",
    "    #   and return it\n",
    "\n",
    "\n",
    "\n",
    "trained_baseline_network = train(BaselineNetwork(len(all_tags)), 2)\n",
    "print_sample_predictions(predict_using(trained_baseline_network), \n",
    "                         validation_data_raw)"
   ],
   "metadata": {
    "_uuid": "45d8bb25-b83f-4904-8599-7d3a303f05e7",
    "_cell_guid": "679f92c0-5ce8-4648-a834-4b8f0942922e",
    "collapsed": false,
    "id": "w7ce8kZd-5pj",
    "executionInfo": {
     "status": "ok",
     "timestamp": 1611952988615,
     "user_tz": 480,
     "elapsed": 3909,
     "user": {
      "displayName": "Rudy Corona Rodriguez",
      "photoUrl": "",
      "userId": "02448394073714905143"
     }
    },
    "outputId": "dadafa1e-5d8c-4287-cfe8-d6cc8003db67",
    "jupyter": {
     "outputs_hidden": false
    },
    "trusted": true
   },
   "execution_count": null,
   "outputs": []
  },
  {
   "cell_type": "markdown",
   "source": [
    "It's time to actually define a non-trivial neural network.  We'll start with a pretty simple model that takes embeddings of the characters of a word, pools them, and runs a feedforward network.  Fill in your code for `PoolingNetwork` below.  A correct implementation should get a validation score over 66%."
   ],
   "metadata": {
    "_uuid": "28961116-f211-4a75-92f0-60f1c1e1d87d",
    "_cell_guid": "4ff86d59-6ec0-437a-8b79-6167dd8ae024",
    "id": "zfDfOpTj41mj",
    "trusted": true
   }
  },
  {
   "cell_type": "code",
   "source": [
    "class PoolingNetwork(nn.Module):\n",
    "    def __init__(self, n_outputs): # pass whatever arguments you need\n",
    "        super().__init__() # you will get an error if you don't call the parent class __init__\n",
    "\n",
    "        # YOUR CODE HERE\n",
    "        # create Modules from torch.nn (imported as nn)\n",
    "        # here you will need nn.Embedding and two nn.Linear\n",
    "        # you may find it easier to start with the `forward` method and as you need components come back to place them here\n",
    "\n",
    "\n",
    "\n",
    "    def forward(self, chars, mask): # the main method that runs this module\n",
    "        # for this network, `chars` should be an int64 tensor of character ids with size (batch, n_chars)\n",
    "        #   note that sometimes PyTorch puts sequence dimensions before the batch, so you will need to make sure you know which you are using\n",
    "        # `mask` is a float32 tensor of size (batch, n_chars) that is 1.0 if the character at that position in `chars` is valid (else 0.0)\n",
    "        # the function returns a float32 tensor of size (batch, n_pos)\n",
    "        \n",
    "        # we recommend that you return pre-activation values from modules (e.g. the values before running softmax or sigmoid)\n",
    "        # pytorch has loss functions that combine the softmax/sigmoid operation into the loss operation for more numerical stability\n",
    "\n",
    "        # YOUR CODE HERE\n",
    "        # Your code should do the following:\n",
    "        # 1) get character embeddings\n",
    "        # 2) multiply embeddings by `mask` (you will need to use `view` or `unsqueeze` to make the broadcasting work correctly;\n",
    "        #    see https://pytorch.org/docs/stable/notes/broadcasting.html)\n",
    "        # 3) pool over the characters of each word with the Tensor `mean` function\n",
    "        # 4) run a linear layer\n",
    "        # 5) apply an activation (ReLU is a decent default choice; look in torch.nn.functional, which is imported as F)\n",
    "        # 6) run dropout; you can either make a nn.Dropout module in __init__ or use F.dropout, but if you use F.dropout, be sure to pass training=self.training to\n",
    "        #    make sure dropout gets turned off during evaluation\n",
    "        # 7) run your second linear layer and return the output\n",
    "\n",
    "\n",
    "\n",
    "trained_pooling_network = train(PoolingNetwork(len(all_tags)))\n",
    "pooling_predictor = predict_using(trained_pooling_network)"
   ],
   "metadata": {
    "_uuid": "9ac91a48-992a-4604-8cf0-36728ee12880",
    "_cell_guid": "5e0a4fbf-5957-4f33-b57d-46779c31e876",
    "collapsed": false,
    "id": "nbJgzzO8SOJ_",
    "executionInfo": {
     "status": "ok",
     "timestamp": 1611953054602,
     "user_tz": 480,
     "elapsed": 36487,
     "user": {
      "displayName": "Rudy Corona Rodriguez",
      "photoUrl": "",
      "userId": "02448394073714905143"
     }
    },
    "outputId": "8091d835-bcb1-4a1c-ad30-5f0914064238",
    "jupyter": {
     "outputs_hidden": false
    },
    "trusted": true
   },
   "execution_count": null,
   "outputs": []
  },
  {
   "cell_type": "markdown",
   "source": [
    "And look at some outputs."
   ],
   "metadata": {
    "_uuid": "3de230aa-6d32-4124-bf37-ae736a502699",
    "_cell_guid": "582478ec-cefd-43f0-a0cd-81ae3def54a8",
    "id": "E9iRzg47SUbD",
    "trusted": true
   }
  },
  {
   "cell_type": "code",
   "source": [
    "print_sample_predictions(pooling_predictor, validation_data_raw)"
   ],
   "metadata": {
    "_uuid": "8067f9dc-12ac-42d7-8e76-7ed005ce6706",
    "_cell_guid": "a1d9d455-86d1-404e-8ed5-5c486fbd0181",
    "collapsed": false,
    "id": "fv00vHSlSSbe",
    "executionInfo": {
     "status": "ok",
     "timestamp": 1611628997794,
     "user_tz": 480,
     "elapsed": 86348,
     "user": {
      "displayName": "Rudy Corona Rodriguez",
      "photoUrl": "",
      "userId": "02448394073714905143"
     }
    },
    "outputId": "cd1ea11e-c4a5-47b1-f0fb-7ee33596c2eb",
    "jupyter": {
     "outputs_hidden": false
    },
    "trusted": true
   },
   "execution_count": null,
   "outputs": []
  },
  {
   "cell_type": "markdown",
   "source": [
    "For this next part, we'll give you a little more freedom to experiment.  Think about what types of information could be useful for predicting parts of speech.  Think about what the pooling model is missing.  Implement an improved model that reaches a validation score above 75%.\n",
    "\n",
    "One way to reach the required accuracy is to operate over character n-grams before pooling.\n",
    "There are several ways to implement this, but if you need help, you can use the following steps between the creation of embeddings and the mask/pool operations to process bigrams:\n",
    "1. create two slices of the embedding tensor, one with the first character cut off and one with the last cut off\n",
    "2. concatenate the two sliced tensors along the embedding dimension with `torch.cat`\n",
    "3. run a linear layer with activation on the concatenated embeddings\n",
    "4. cut off the first character of the mask tensor"
   ],
   "metadata": {
    "_uuid": "77e8fb7d-09e1-44ae-8a95-282275ef75ff",
    "_cell_guid": "eed6d4dd-7e0a-4718-92e7-39a53b9b8671",
    "id": "I-NnQ1Q4q-6U",
    "trusted": true
   }
  },
  {
   "cell_type": "code",
   "source": [
    "class ImprovedNetwork(nn.Module):\n",
    "    def __init__(self, n_outputs): # pass whatever arguments you need\n",
    "        super().__init__()\n",
    "\n",
    "        # YOUR CODE HERE\n",
    "        # create Modules from torch.nn (imported as nn)\n",
    "\n",
    "\n",
    "\n",
    "    def forward(self, chars, mask):\n",
    "        # for this network, `chars` should be an int64 tensor of character ids with size (batch, n_chars)\n",
    "        # `mask` is a float32 tensor of size (batch, n_chars) that is 1.0 if the character at that position in `chars` is valid (else 0.0)\n",
    "        # the function returns a float32 tensor of size (batch, n_pos)\n",
    "\n",
    "        # YOUR CODE HERE\n",
    "\n",
    "\n",
    "trained_improved_network = train(ImprovedNetwork(len(all_tags)))\n",
    "improved_predictor = predict_using(trained_improved_network)"
   ],
   "metadata": {
    "_uuid": "c74366ad-97bf-4393-9b9e-d91a0d09f9fd",
    "_cell_guid": "ba8d96cf-f715-44d8-b3bb-07e96bc6f207",
    "collapsed": false,
    "id": "-hT0Fj_de2j5",
    "executionInfo": {
     "status": "ok",
     "timestamp": 1611629044182,
     "user_tz": 480,
     "elapsed": 132731,
     "user": {
      "displayName": "Rudy Corona Rodriguez",
      "photoUrl": "",
      "userId": "02448394073714905143"
     }
    },
    "outputId": "7b1b3e6b-c7a3-4947-bd6a-214bb08338a0",
    "jupyter": {
     "outputs_hidden": false
    },
    "trusted": true
   },
   "execution_count": null,
   "outputs": []
  },
  {
   "cell_type": "markdown",
   "source": [
    "We can also get a feel for what our model learned by providing some of our own inputs that aren't real words (yet)."
   ],
   "metadata": {
    "_uuid": "31d4f59e-f0ac-4bcf-baa4-e1a979c85a71",
    "_cell_guid": "c608474d-9ab1-4ba3-9a0a-34e1429a3ebd",
    "id": "vaTxzvNgxtDR",
    "trusted": true
   }
  },
  {
   "cell_type": "code",
   "source": [
    "print_sample_predictions(improved_predictor, validation_data_raw)\n",
    "\n",
    "print_sample_predictions(improved_predictor, [['kleining','X'], ['deneroful','X']])"
   ],
   "metadata": {
    "_uuid": "da663499-e1aa-41f1-9c99-62f9cca34285",
    "_cell_guid": "56ba35d9-5154-4373-94aa-3fef3c1a7335",
    "collapsed": false,
    "id": "AFMX_RBKT1oN",
    "executionInfo": {
     "status": "ok",
     "timestamp": 1611629044183,
     "user_tz": 480,
     "elapsed": 132727,
     "user": {
      "displayName": "Rudy Corona Rodriguez",
      "photoUrl": "",
      "userId": "02448394073714905143"
     }
    },
    "outputId": "48eeafaf-5d46-4909-aa89-9500cf42507e",
    "jupyter": {
     "outputs_hidden": false
    },
    "trusted": true
   },
   "execution_count": null,
   "outputs": []
  },
  {
   "cell_type": "markdown",
   "source": [
    "Finally, you need to run your model on the test set and save the outputs.  You'll turn in your predictions for us to grade."
   ],
   "metadata": {
    "_uuid": "3991c92f-2e91-400c-a3ae-73d35d661507",
    "_cell_guid": "0fbe96bf-d087-49cb-91f3-ee0af161c62a",
    "id": "XrsWMTREe9EY",
    "trusted": true
   }
  },
  {
   "cell_type": "code",
   "source": [
    "def save_predictions(predictions, filename):\n",
    "    \"\"\"Save predictions to a file.\n",
    "    \n",
    "    predictions is a list of strings.\n",
    "    \"\"\"\n",
    "    with open(filename, 'w') as f:\n",
    "        for pred in predictions:\n",
    "            f.write(pred)\n",
    "            f.write('\\n')\n",
    "\n",
    "print('test score pooling:', evaluate(pooling_predictor, test_data_raw))\n",
    "print('test score improved:', evaluate(improved_predictor, test_data_raw))\n",
    "\n",
    "test_predictions = pooling_predictor(test_data_raw)\n",
    "save_predictions(test_predictions, 'predicted_test_outputs_pooling.txt')\n",
    "test_predictions = improved_predictor(test_data_raw)\n",
    "save_predictions(test_predictions, 'predicted_test_outputs_improved.txt')\n",
    "\n",
    "# Check that your test set looks like we expect it to\n",
    "import hashlib\n",
    "m = hashlib.md5()\n",
    "m.update(str(test_data_raw).encode('utf-8'))\n",
    "assert m.digest() == b'*N\\xf6\\xbe\\xed\\xde\\xe8q)\\xb9GG\\xa6\\x15UI'"
   ],
   "metadata": {
    "_uuid": "cfbd28ce-8820-4d0b-bdc0-e5be9948560c",
    "_cell_guid": "12bee4cb-3e22-4a90-8903-15118ac42169",
    "collapsed": false,
    "id": "uRxZb1LBfVmf",
    "executionInfo": {
     "status": "ok",
     "timestamp": 1611629044588,
     "user_tz": 480,
     "elapsed": 133127,
     "user": {
      "displayName": "Rudy Corona Rodriguez",
      "photoUrl": "",
      "userId": "02448394073714905143"
     }
    },
    "outputId": "39fea334-2cd3-455d-ae68-b660fe21212a",
    "jupyter": {
     "outputs_hidden": false
    },
    "trusted": true
   },
   "execution_count": null,
   "outputs": []
  },
  {
   "cell_type": "markdown",
   "source": [
    "### Gradescope\n",
    "\n",
    "We will use Gradescope for assignment submission.  You should have received an email with instructions to get added to Gradescope.  If not, please make a private post on Piazza.\n",
    "\n",
    "You will submit this notebook and the required output files that we specify.  For this project, your submission will contain:\n",
    "* hw1a.ipynb\n",
    "* predicted_test_outputs_pooling.txt\n",
    "* predicted_test_outputs_improved.txt\n",
    "\n",
    "You can upload files individually or as part of a zip file, but if using a zip file be sure you are zipping the files directly and not a folder that contains them.\n",
    " \n",
    "To download this notebook, go to `File->Download .ipynb`.  Please rename the file to match the name in our file list.  You can download other outputs, like `predicted_test_output_improved.txt` by clicking the > arrow near the top left and finding it under `Files`.\n",
    "\n",
    "When submitting your ipython notebooks, make sure everything runs correctly if the cells are executed in order starting from a fresh session.  Note that just because a cell runs in your current session doesn't mean it doesn't rely on code that you have already changed or deleted.  If the code doesn't take too long to run, we recommend re-running everything with `Runtime->Restart and run all...`.\n",
    "\n",
    "When you upload your submission to the Gradescope assignment, you should get immediate feedback that confirms your submission was processed correctly.  Be sure to check this, as an incorrectly formatted submission could cause the autograder to fail.  For this project, you should be able to see your test set accuracies and a confirmation that all required files were found, but you will not be able to see your score until later.  Most assignments will be graded primarily on your test set accuracies, but we may also use other factors to grade.\n",
    "\n",
    "Note that Gradesope will allow you to submit multiple times before the deadline, and we will use the latest submission for grading."
   ],
   "metadata": {
    "_uuid": "efec9bea-b1a2-4977-9243-cbc245fd0b11",
    "_cell_guid": "3fcfa761-24a2-4912-b031-86e933eb0c10",
    "id": "uO7Ku-YUSc0D",
    "trusted": true
   }
  }
 ]
}
